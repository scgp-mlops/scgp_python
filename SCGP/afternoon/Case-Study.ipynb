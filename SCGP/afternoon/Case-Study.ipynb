{
 "cells": [
  {
   "cell_type": "markdown",
   "metadata": {},
   "source": [
    "# Case Study"
   ]
  },
  {
   "cell_type": "markdown",
   "metadata": {},
   "source": [
    "## Part 1\n",
    "*To be completed at the conclusion of Day 1*"
   ]
  },
  {
   "cell_type": "markdown",
   "metadata": {},
   "source": [
    "For the following exercises, you should use the data stored at `../data/companies.csv`\n",
    "You aren't expected to finish all the exercises; just get through as many as time allows and we will review them together.\n",
    "\n",
    "1. Start by becoming familiar with the data. How many rows and how many columns does it have? What are the data types of the columns?\n",
    "2. Set the data's index to be the \"Symbol\" column.\n",
    "3. Look up the company with the symbol NCLH. What company is this? What sector is it in?\n",
    "4. Filter down to companies that *either* in the \"Consumer Discretionary\" or the \"Consumer Staples\" sectors.\n",
    "5. How many companies are left in the data now?\n",
    "6. Create a new column, \"Symbol_Length\", that is the length of the symbol of each company. *Hint: you may need to reset an index along the way.*\n",
    "7. Find the company named \"Kroger Co.\". Change its name to \"The Kroger Company\"."
   ]
  },
  {
   "cell_type": "markdown",
   "metadata": {},
   "source": [
    "**Bonus**: *For these two exercises, you won't find examples of the solution in our notebooks.\n",
    "You'll need to search for help on the internet.*\n",
    "\n",
    "*Don't worry if you aren't able to solve them.*\n",
    "\n",
    "1. Filter down to companies whose symbol starts with A. How many companies meet this criterion?\n",
    "2. What is the longest company name remaining in the dataset? You could just search the data visually, but try to find a programmatic solution."
   ]
  },
  {
   "cell_type": "code",
   "execution_count": 6,
   "metadata": {},
   "outputs": [
    {
     "data": {
      "text/html": [
       "<div>\n",
       "<style scoped>\n",
       "    .dataframe tbody tr th:only-of-type {\n",
       "        vertical-align: middle;\n",
       "    }\n",
       "\n",
       "    .dataframe tbody tr th {\n",
       "        vertical-align: top;\n",
       "    }\n",
       "\n",
       "    .dataframe thead th {\n",
       "        text-align: right;\n",
       "    }\n",
       "</style>\n",
       "<table border=\"1\" class=\"dataframe\">\n",
       "  <thead>\n",
       "    <tr style=\"text-align: right;\">\n",
       "      <th></th>\n",
       "      <th>Symbol</th>\n",
       "      <th>Name</th>\n",
       "      <th>Sector</th>\n",
       "      <th>Symbol_length</th>\n",
       "      <th>Symbol_start</th>\n",
       "    </tr>\n",
       "  </thead>\n",
       "  <tbody>\n",
       "    <tr>\n",
       "      <th>0</th>\n",
       "      <td>MMM</td>\n",
       "      <td>3M Company</td>\n",
       "      <td>Industrials</td>\n",
       "      <td>3</td>\n",
       "      <td>M</td>\n",
       "    </tr>\n",
       "    <tr>\n",
       "      <th>1</th>\n",
       "      <td>AOS</td>\n",
       "      <td>A.O. Smith Corp</td>\n",
       "      <td>Industrials</td>\n",
       "      <td>3</td>\n",
       "      <td>A</td>\n",
       "    </tr>\n",
       "    <tr>\n",
       "      <th>2</th>\n",
       "      <td>ABT</td>\n",
       "      <td>Abbott Laboratories</td>\n",
       "      <td>Health Care</td>\n",
       "      <td>3</td>\n",
       "      <td>A</td>\n",
       "    </tr>\n",
       "    <tr>\n",
       "      <th>3</th>\n",
       "      <td>ABBV</td>\n",
       "      <td>AbbVie Inc.</td>\n",
       "      <td>Health Care</td>\n",
       "      <td>4</td>\n",
       "      <td>A</td>\n",
       "    </tr>\n",
       "    <tr>\n",
       "      <th>4</th>\n",
       "      <td>ACN</td>\n",
       "      <td>Accenture plc</td>\n",
       "      <td>Information Technology</td>\n",
       "      <td>3</td>\n",
       "      <td>A</td>\n",
       "    </tr>\n",
       "    <tr>\n",
       "      <th>...</th>\n",
       "      <td>...</td>\n",
       "      <td>...</td>\n",
       "      <td>...</td>\n",
       "      <td>...</td>\n",
       "      <td>...</td>\n",
       "    </tr>\n",
       "    <tr>\n",
       "      <th>500</th>\n",
       "      <td>XYL</td>\n",
       "      <td>Xylem Inc.</td>\n",
       "      <td>Industrials</td>\n",
       "      <td>3</td>\n",
       "      <td>X</td>\n",
       "    </tr>\n",
       "    <tr>\n",
       "      <th>501</th>\n",
       "      <td>YUM</td>\n",
       "      <td>Yum! Brands Inc</td>\n",
       "      <td>Consumer Discretionary</td>\n",
       "      <td>3</td>\n",
       "      <td>Y</td>\n",
       "    </tr>\n",
       "    <tr>\n",
       "      <th>502</th>\n",
       "      <td>ZBH</td>\n",
       "      <td>Zimmer Biomet Holdings</td>\n",
       "      <td>Health Care</td>\n",
       "      <td>3</td>\n",
       "      <td>Z</td>\n",
       "    </tr>\n",
       "    <tr>\n",
       "      <th>503</th>\n",
       "      <td>ZION</td>\n",
       "      <td>Zions Bancorp</td>\n",
       "      <td>Financials</td>\n",
       "      <td>4</td>\n",
       "      <td>Z</td>\n",
       "    </tr>\n",
       "    <tr>\n",
       "      <th>504</th>\n",
       "      <td>ZTS</td>\n",
       "      <td>Zoetis</td>\n",
       "      <td>Health Care</td>\n",
       "      <td>3</td>\n",
       "      <td>Z</td>\n",
       "    </tr>\n",
       "  </tbody>\n",
       "</table>\n",
       "<p>505 rows × 5 columns</p>\n",
       "</div>"
      ],
      "text/plain": [
       "    Symbol                    Name                  Sector  Symbol_length  \\\n",
       "0      MMM              3M Company             Industrials              3   \n",
       "1      AOS         A.O. Smith Corp             Industrials              3   \n",
       "2      ABT     Abbott Laboratories             Health Care              3   \n",
       "3     ABBV             AbbVie Inc.             Health Care              4   \n",
       "4      ACN           Accenture plc  Information Technology              3   \n",
       "..     ...                     ...                     ...            ...   \n",
       "500    XYL              Xylem Inc.             Industrials              3   \n",
       "501    YUM         Yum! Brands Inc  Consumer Discretionary              3   \n",
       "502    ZBH  Zimmer Biomet Holdings             Health Care              3   \n",
       "503   ZION           Zions Bancorp              Financials              4   \n",
       "504    ZTS                  Zoetis             Health Care              3   \n",
       "\n",
       "    Symbol_start  \n",
       "0              M  \n",
       "1              A  \n",
       "2              A  \n",
       "3              A  \n",
       "4              A  \n",
       "..           ...  \n",
       "500            X  \n",
       "501            Y  \n",
       "502            Z  \n",
       "503            Z  \n",
       "504            Z  \n",
       "\n",
       "[505 rows x 5 columns]"
      ]
     },
     "execution_count": 6,
     "metadata": {},
     "output_type": "execute_result"
    }
   ],
   "source": [
    "import pandas as pd\n",
    "df = pd.read_csv('../data/companies.csv')\n",
    "df['Symbol_length'] = df.Symbol.apply(lambda x: len(x))\n",
    "df['Symbol_start'] = df.Symbol.apply(lambda x: x[0])\n",
    "df"
   ]
  },
  {
   "cell_type": "markdown",
   "metadata": {},
   "source": [
    "## Part 2\n",
    "*To be completed at the conclusion of Day 2*"
   ]
  },
  {
   "cell_type": "markdown",
   "metadata": {},
   "source": [
    "This section again uses the data at `../data/companies.csv`.\n",
    "\n",
    "1. Re-create the \"Symbol_Length\" column (see above).\n",
    "2. What is the average symbol length of companies in the data set?\n",
    "3. What is the average symbol length by sector? That is, after grouping by sector, what is the average symbol length for each group?\n",
    "4. How long is the longest company name? How long is the longest company name by sector?"
   ]
  },
  {
   "cell_type": "markdown",
   "metadata": {},
   "source": [
    "Now open the pricing data at `../data/prices.csv`.\n",
    "Note that this data is entirely fabricated and does not exhibit the qualities of real stock market data!\n",
    "\n",
    "1. Become familiar with this data. What is its shape? What are its data types?\n",
    "2. Get summary metrics (count, min, max, standard deviation, etc) for both the Price and Quarter columns. *Hint: we saw a method of DataFrames that will do this for you in a single line.*\n",
    "3. Perform an inner join between this data set and the companies data, on the Symbol column.\n",
    "4. How many rows does our data have now?\n",
    "5. What do you think this data represents? Form a hypothesis and look through the data more carefully until you are confident you understand what it is and how it is structured.\n",
    "6. Group the data by sector. What is the average first quarter price for a company in the Real Estate sector? What is the minimum fourth quarter price for a company in the Industrials sector?\n",
    "7. Filter the data down to just prices for Apple, Google, Microsoft, and Amazon.\n",
    "8. Save this data as big_4.csv in the `../data` directory.\n",
    "9. Using Seaborn, plot the price of these companies over 4 quarters. Encode the quarter as the x-axis, the price as the y-axis, and the company symbol as the hue."
   ]
  },
  {
   "cell_type": "markdown",
   "metadata": {},
   "source": [
    "**Bonus**:\n",
    "\n",
    "This data is in a form that is useful for plotting.\n",
    "But in this shape, it would be quite difficult to calculate the difference between each company's fourth quarter price and its first quarter price.\n",
    "\n",
    "Reshape this data so it is of a form like the below:\n",
    "\n",
    "| Symbol | Name | Sector | Q1 | Q2 | Q3 | Q4 |\n",
    "|--------|------|--------|----|----|----|----|\n",
    "| AAPL   | Apple Inc. | Information Technology | 275.20 | 269.96 | 263.51 | 266.07\n",
    "\n",
    "From which we could easily calculate Q4 - Q1.\n",
    "\n",
    "*You will probably want to google something like \"python reshaping data\". This is a very challenging problem!*"
   ]
  }
 ],
 "metadata": {
  "kernelspec": {
   "display_name": "Python 3 (ipykernel)",
   "language": "python",
   "name": "python3"
  },
  "language_info": {
   "codemirror_mode": {
    "name": "ipython",
    "version": 3
   },
   "file_extension": ".py",
   "mimetype": "text/x-python",
   "name": "python",
   "nbconvert_exporter": "python",
   "pygments_lexer": "ipython3",
   "version": "3.8.12"
  }
 },
 "nbformat": 4,
 "nbformat_minor": 4
}
