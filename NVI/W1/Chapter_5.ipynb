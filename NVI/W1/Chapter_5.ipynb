{
 "cells": [
  {
   "cell_type": "markdown",
   "metadata": {
    "id": "U9WWQgtuYDOZ"
   },
   "source": [
    "# Joining Data\n",
    "\n",
    "> It’s rare that a data analysis involves only a single table of data. Typically you have many tables of data, and you must combine them to answer the questions that you’re interested in.\n",
    ">\n",
    "> \\- Garrett Grolemund, Master Instructor, RStudio"
   ]
  },
  {
   "cell_type": "markdown",
   "metadata": {
    "id": "V6QA2y6teSp1"
   },
   "source": [
    "# General Model"
   ]
  },
  {
   "cell_type": "markdown",
   "metadata": {
    "id": "yFDYgQpvo5wM"
   },
   "source": [
    "## Combining Data\n",
    "\n",
    "* We frequently want to use more than one table at once, so we need to combine them in some way\n",
    "\n",
    "* Because tables are two-dimensional, we can combine them **vertically** and **horizontally**\n",
    "\n",
    "* Combining data **vertically** is known as **appending**/**unioning**/**concatenating**\n",
    "\n",
    "* Combiding data **horizontally** is known as **joining**/**merging**"
   ]
  },
  {
   "cell_type": "markdown",
   "metadata": {
    "id": "19sEHW7wehlk"
   },
   "source": [
    "## Appending Data Vertically\n",
    "\n",
    "* When we combine data **vertically**, we are stacking tables on top of one another:\n",
    "\n",
    "<center>\n",
    "<img src=\"https://raw.githubusercontent.com/pp-ct/scg_python/main/notebooks/images/combine-vertically.png\" height=\"300\">\n",
    "</center>\n",
    "\n",
    "* Note that this is particularly useful when all columns are the same between the two tables"
   ]
  },
  {
   "cell_type": "markdown",
   "metadata": {
    "id": "nR-057gafKqd"
   },
   "source": [
    "## Joining Data Horizontally\n",
    "\n",
    "* When we combine data **horizontally**, we are attaching the tables at their sides:\n",
    "\n",
    "* The joining occurs by matching on a **key column**\n",
    "\n",
    "<center>\n",
    "<img src=\"https://raw.githubusercontent.com/pp-ct/scg_python/main/notebooks/images/combine-horizontally-key.png\">\n",
    "</center>"
   ]
  },
  {
   "cell_type": "markdown",
   "metadata": {
    "id": "bHmBvC0FhB4I"
   },
   "source": [
    "# Combining DataFrames"
   ]
  },
  {
   "cell_type": "markdown",
   "metadata": {
    "id": "xzq8T_Z9pAEh"
   },
   "source": [
    "## Appending DataFrames\n",
    "\n",
    "* When we combine DataFrames vertically, we want to stack two DataFrames on top of one another\n",
    "\n",
    "* Let's start by creating two DataFrames with the same variables:"
   ]
  },
  {
   "cell_type": "code",
   "execution_count": null,
   "metadata": {
    "id": "eqV_z1LGnv9s"
   },
   "outputs": [],
   "source": [
    "import pandas as pd"
   ]
  },
  {
   "cell_type": "code",
   "execution_count": null,
   "metadata": {
    "id": "pMBYmjQ8W8PE"
   },
   "outputs": [],
   "source": [
    "df_1 = pd.DataFrame({'x': [1, 2], 'y': ['a', 'b']})\n",
    "df_1"
   ]
  },
  {
   "cell_type": "code",
   "execution_count": null,
   "metadata": {
    "id": "bTuejS8qeRs1"
   },
   "outputs": [],
   "source": [
    "df_2 = pd.DataFrame({'x': [3, 4], 'y': ['c', 'd']})\n",
    "df_2"
   ]
  },
  {
   "cell_type": "markdown",
   "metadata": {
    "id": "9mWxcrq4hQJE"
   },
   "source": [
    "We can stack `df_1` and `df_2` on top of one another using the `concat()` function from `pandas` with a list:\n",
    "\n",
    "We also can add the `ignore_index = True` to make the Index reset:"
   ]
  },
  {
   "cell_type": "code",
   "execution_count": null,
   "metadata": {
    "id": "qcmirzcchNqm"
   },
   "outputs": [],
   "source": [
    "df_3 = "
   ]
  },
  {
   "cell_type": "markdown",
   "metadata": {
    "id": "sXpAuGSFlvWW"
   },
   "source": [
    "# Joining DataFrames"
   ]
  },
  {
   "cell_type": "markdown",
   "metadata": {
    "id": "f1YJIbhRpEYq"
   },
   "source": [
    "* Joining DataFrames may be one of the most important skills to learn in Python\n",
    "\n",
    "* As a reminder, joining DataFrames is the horizontal combining of two DataFrames on some **key column**:\n",
    "\n",
    "<center>\n",
    "<img src=\"https://raw.githubusercontent.com/pp-ct/scg_python/main/notebooks/images/combine-horizontally-key.png\" height=\"300\">\n",
    "</center>\n",
    "\n",
    "\n",
    "* We have `flights_df`, but we need another DataFrame to join to `flights_df` that has a common **key column**\n",
    "\n",
    "* As an example, assume we want to know which airline carried each flight in `flights_df`:"
   ]
  },
  {
   "cell_type": "code",
   "execution_count": null,
   "metadata": {
    "id": "SbVsq6Y4l9ha"
   },
   "outputs": [],
   "source": [
    "airlines_df = pd.read_csv('https://raw.githubusercontent.com/pp-ct/scg_python/main/data/airlines.csv')\n",
    "flights_df = pd.read_csv('https://raw.githubusercontent.com/pp-ct/scg_python/main/data/flights.csv')"
   ]
  },
  {
   "cell_type": "code",
   "execution_count": null,
   "metadata": {
    "id": "0x26SY5pnyoO"
   },
   "outputs": [],
   "source": [
    "airlines_df.head()"
   ]
  },
  {
   "cell_type": "code",
   "execution_count": null,
   "metadata": {
    "id": "ne0Yj2cZn41A"
   },
   "outputs": [],
   "source": [
    "flights_df.head()"
   ]
  },
  {
   "cell_type": "markdown",
   "metadata": {
    "id": "p74GH30boMEt"
   },
   "source": [
    "The `carrier` column is our key because it's in both DataFrames.\n",
    "\n",
    "We can join/merge the DataFrames together using the `merge()` function:"
   ]
  },
  {
   "cell_type": "code",
   "execution_count": null,
   "metadata": {
    "id": "nHXBYbiroAWY"
   },
   "outputs": [],
   "source": [
    "pd.merge()"
   ]
  },
  {
   "cell_type": "markdown",
   "metadata": {
    "id": "Ns76VJVZoqIA"
   },
   "source": [
    "# Join Types"
   ]
  },
  {
   "cell_type": "markdown",
   "metadata": {
    "id": "JmCX1-bvpGU3"
   },
   "source": [
    "### Inner Joins\n",
    "\n",
    "All of our joins have been **inner joins**:\n",
    "\n",
    "<center>\n",
    "<img src=\"https://raw.githubusercontent.com/pp-ct/scg_python/main/notebooks/images/inner-join.png\" alt=\"inner-join.png\" height=\"500\">\n",
    "</center>\n",
    "\n",
    "**Inner joins** only keep rows where the key is in *both tables*.\n",
    "\n",
    "### Left Joins\n",
    "\n",
    "Sometimes we only want to include data that is **in the left table** regardless of whether it's in the right table:\n",
    "\n",
    "<center>\n",
    "<img src=\"https://raw.githubusercontent.com/pp-ct/scg_python/main/notebooks/images/left-outer-join.png\" alt=\"left-outer-join.png\" height=\"500\">\n",
    "</center>\n",
    "\n",
    "Left outer joins, or simply **left joins**, keep rows where the key is in the left table.\n",
    "\n",
    "### Right Joins\n",
    "\n",
    "Sometimes we only want to include data that is **in the right table** regardless of whether it's in the left table:\n",
    "\n",
    "<center>\n",
    "<img src=\"https://raw.githubusercontent.com/pp-ct/scg_python/main/notebooks/images/right-outer-join.png\" alt=\"right-outer-join.png\" height=\"500\">\n",
    "</center>\n",
    "\n",
    "Right outer joins, or simply **right joins**, keep rows where the key is in the right table.\n",
    "\n",
    "### Outer Joins\n",
    "\n",
    "Sometimes we want to include **all rows** in either the left table or the right table:\n",
    "\n",
    "<center>\n",
    "<img src=\"https://raw.githubusercontent.com/pp-ct/scg_python/main/notebooks/images/full-outer-join.png\" alt=\"full-outer-join.png\" height=\"500\">\n",
    "</center>\n",
    "\n",
    "**Full outer joins** keep all rows."
   ]
  },
  {
   "cell_type": "markdown",
   "metadata": {
    "id": "YTEJ6iWaqSaW"
   },
   "source": [
    "# Applying Different Join Types"
   ]
  },
  {
   "cell_type": "markdown",
   "metadata": {
    "id": "eROLBLU0qUy3"
   },
   "source": [
    "We can apply these different join types using the `how` parameter of the `merge()` function:\n",
    "\n",
    "While `how = 'inner'` is the default, we can also use `'left':`, `'right'`, and `'outer'`:"
   ]
  },
  {
   "cell_type": "code",
   "execution_count": null,
   "metadata": {
    "id": "Xn2j3OwFoToF"
   },
   "outputs": [],
   "source": [
    "pd.merge()"
   ]
  }
 ],
 "metadata": {
  "colab": {
   "authorship_tag": "ABX9TyNaXwdcr9ik7+2kPaeeNmeY",
   "name": "Chapter_5.ipynb",
   "provenance": [],
   "toc_visible": true
  },
  "kernelspec": {
   "display_name": "Python 3",
   "language": "python",
   "name": "python3"
  },
  "language_info": {
   "codemirror_mode": {
    "name": "ipython",
    "version": 3
   },
   "file_extension": ".py",
   "mimetype": "text/x-python",
   "name": "python",
   "nbconvert_exporter": "python",
   "pygments_lexer": "ipython3",
   "version": "3.7.3"
  }
 },
 "nbformat": 4,
 "nbformat_minor": 4
}
