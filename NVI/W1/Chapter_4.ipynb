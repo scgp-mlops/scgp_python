{
 "cells": [
  {
   "cell_type": "markdown",
   "metadata": {
    "id": "1dARykjIFmNF"
   },
   "source": [
    "# Pandas DataFrames\n",
    "In data science, the most important complex data structure is the **DataFrame**.\n",
    "DataFrames are a collection of tabular data -- you might think of them as *tables* or *datasets*, depending on your background."
   ]
  },
  {
   "cell_type": "code",
   "execution_count": null,
   "metadata": {
    "id": "2qTg5FmxEiUJ"
   },
   "outputs": [],
   "source": [
    "# Import pandas\n",
    "import pandas as pd"
   ]
  },
  {
   "cell_type": "code",
   "execution_count": null,
   "metadata": {
    "id": "tI_RIfGlI_op"
   },
   "outputs": [],
   "source": [
    "country_dict =  {\"Brazil\":\"BR\", \"Russia\":\"RU\", \"India\":\"IN\", \"China\":\"CH\", \"South Africa\":\"SA\"}\n",
    "data_dict = {\"country\": [\"Brazil\", \"Russia\", \"India\", \"China\", \"South Africa\"],\n",
    "             \"capital\": [\"Brasilia\", \"Moscow\", \"New Dehli\", \"Beijing\", \"Pretoria\"],\n",
    "             \"area\": [8.516, 17.10, 3.286, 9.597, 1.221],\n",
    "             \"population\": [200.4, 143.5, 1252, 1357, 52.98] }\n",
    "\n",
    "# creat a dataframe from python dictionary\n",
    "data_df = pd.DataFrame(data_dict)"
   ]
  },
  {
   "cell_type": "markdown",
   "metadata": {
    "id": "1JqN6HZ7N3vs"
   },
   "source": [
    "# Importing Tabular Data with Pandas\n",
    "\n",
    "pandas is preferred because it imports the data directly into a DataFrame -- the data structure of choice for tabular data in Python."
   ]
  },
  {
   "cell_type": "code",
   "execution_count": null,
   "metadata": {
    "id": "BBJw7pjbLGTd"
   },
   "outputs": [],
   "source": [
    "# use read_csv to import flat file from the url\n",
    "# https://raw.githubusercontent.com/pp-ct/scg_python/main/data/planes.csv\n"
   ]
  },
  {
   "cell_type": "code",
   "execution_count": null,
   "metadata": {
    "id": "xqxinGXYNfkJ"
   },
   "outputs": [],
   "source": [
    "# Help with ?\n",
    "pd.read_csv?"
   ]
  },
  {
   "cell_type": "code",
   "execution_count": null,
   "metadata": {
    "id": "GFNjR8_9MHjG"
   },
   "outputs": [],
   "source": [
    "# show first 5 rows"
   ]
  },
  {
   "cell_type": "code",
   "execution_count": null,
   "metadata": {
    "id": "ldqRqORfMR0J"
   },
   "outputs": [],
   "source": [
    "# show last 5 rows"
   ]
  },
  {
   "cell_type": "markdown",
   "metadata": {
    "id": "wp4zGNeOTVuA"
   },
   "source": [
    "# Selecting and Filtering"
   ]
  },
  {
   "cell_type": "markdown",
   "metadata": {
    "id": "XjpEl4HlTgsG"
   },
   "source": [
    "## Subsetting Dimensions\n",
    "\n",
    "* We don't always want all of the data in a DataFrame, so we need to take subsets of the DataFrame.\n",
    "* In general, **subsetting** is extracting a small portion of a DataFrame -- making the DataFrame smaller.\n",
    "* Since the DataFrame is two-dimensional, there are two dimensions on which to subset."
   ]
  },
  {
   "cell_type": "markdown",
   "metadata": {
    "id": "Doio299nTsry"
   },
   "source": [
    "**Dimension 1:** We may only want to consider certain *variables*.\n",
    "\n",
    "For example, we may only care about the `year` and `engines` variables:\n",
    "\n",
    "We call this selecting columns/variables -- this is similar SQL's SELECT or R's dplyr package's select()."
   ]
  },
  {
   "cell_type": "code",
   "execution_count": null,
   "metadata": {
    "id": "PXMZXSqZTrPS"
   },
   "outputs": [],
   "source": [
    "planes.sample(5)"
   ]
  },
  {
   "cell_type": "code",
   "execution_count": null,
   "metadata": {
    "id": "19M9nNC8UJK3"
   },
   "outputs": [],
   "source": [
    "# Select only year and engines columns\n"
   ]
  },
  {
   "cell_type": "markdown",
   "metadata": {
    "id": "cA2xJVVEVv0b"
   },
   "source": [
    "**Dimension 2:** We may only want to consider certain *cases*.\n",
    "\n",
    "For example, we may only care about the cases where the manufacturer is Embraer.\n",
    "\n",
    "We call this **filtering** or **slicing** -- this is similar to SQL's `WHERE` or R's dplyr package's `filter()` or `slice()`."
   ]
  },
  {
   "cell_type": "code",
   "execution_count": null,
   "metadata": {
    "id": "NuwFtfRSVWsc"
   },
   "outputs": [],
   "source": [
    "# filter only Embraer \n"
   ]
  },
  {
   "cell_type": "markdown",
   "metadata": {
    "id": "BzfQ7-QnWDRo"
   },
   "source": [
    "And we can combine these two options to subset in both dimensions -- the `year` and `engines` variables where the manufacturer is Embraer:\n",
    "\n",
    "## Subsetting and Filtering into a New DataFrame\n",
    "\n",
    "In the previous example, we want to do two things using `planes`:\n",
    "\n",
    "  1. **select** the `year` and `engines` variables\n",
    "  2. **filter** to cases where the manufacturer is Embraer\n",
    "\n",
    "But we also want to return a new DataFrame -- not just highlight certain cells. Therefore:\n",
    "3. Return a DataFrame to continue the analysis"
   ]
  },
  {
   "cell_type": "code",
   "execution_count": null,
   "metadata": {
    "id": "ovUUKr0GWCxM"
   },
   "outputs": [],
   "source": [
    "# filter EMBRAER with 2 engines and year 2004\n"
   ]
  },
  {
   "cell_type": "code",
   "execution_count": null,
   "metadata": {
    "id": "k23Aakb8W01t"
   },
   "outputs": [],
   "source": [
    "# filter EMBRAER or BOEING\n"
   ]
  },
  {
   "cell_type": "markdown",
   "metadata": {
    "id": "X8XGfY4Ra8xS"
   },
   "source": [
    "We can slice cases/rows using the values in the Index and bracket subsetting notation. It's common practice to use .loc to slice cases/rows:"
   ]
  },
  {
   "cell_type": "code",
   "execution_count": null,
   "metadata": {
    "id": "kS2JfM_3ZprJ"
   },
   "outputs": [],
   "source": [
    "# from 0:5"
   ]
  },
  {
   "cell_type": "markdown",
   "metadata": {
    "id": "NGEU-6ZybDw0"
   },
   "source": [
    "We can also pass a `list` of Index values:"
   ]
  },
  {
   "cell_type": "code",
   "execution_count": null,
   "metadata": {
    "id": "KcZzIJ0FbEW7"
   },
   "outputs": [],
   "source": [
    "# index 0, 2, 4, 8"
   ]
  },
  {
   "cell_type": "markdown",
   "metadata": {
    "id": "kon3kDdibqdN"
   },
   "source": [
    "Use condition with loc"
   ]
  },
  {
   "cell_type": "code",
   "execution_count": null,
   "metadata": {
    "id": "iQPz1yTPbtBL"
   },
   "outputs": [],
   "source": []
  },
  {
   "cell_type": "markdown",
   "metadata": {
    "id": "D49xmZiwbFAC"
   },
   "source": [
    "## Selecting Variables and Filtering Cases"
   ]
  },
  {
   "cell_type": "markdown",
   "metadata": {
    "id": "B5P4Spmrbx7t"
   },
   "source": [
    "If we want to select variables and filter cases at the same time, we have a few options:\n",
    "\n",
    "1. Sequential operations\n",
    "2. Simultaneous operations"
   ]
  },
  {
   "cell_type": "code",
   "execution_count": null,
   "metadata": {
    "id": "dmTCffu6buM6"
   },
   "outputs": [],
   "source": [
    "#EMBRAER\n",
    "planes_filtered = \n",
    "planes_filtered_and_selected = "
   ]
  },
  {
   "cell_type": "code",
   "execution_count": null,
   "metadata": {
    "id": "HhLnOl54b65c"
   },
   "outputs": [],
   "source": [
    "planes.loc[]"
   ]
  },
  {
   "cell_type": "markdown",
   "metadata": {
    "id": "uTcJoXr7dU_z"
   },
   "source": [
    "# Creating Columns and Manipulating"
   ]
  },
  {
   "cell_type": "markdown",
   "metadata": {
    "id": "4DiM2V1_dg-n"
   },
   "source": [
    "> During the course of doing data analysis and modeling, a significant amount of time is spent on data preparation: loading, cleaning, transforming, and rearranging. Such tasks are often reported to take up 80% or more of an analyst's time.\n",
    ">\n",
    "> \\- Wes McKinney, the creator of Pandas, in his book *Python for Data Analysis*"
   ]
  },
  {
   "cell_type": "markdown",
   "metadata": {
    "id": "uCISPTYsfKkS"
   },
   "source": [
    "## Creating New Columns\n",
    "\n",
    "It's common to want to modify a column of a DataFrame, or sometimes even to create a new column.\n",
    "Let's take a look at our planes data again."
   ]
  },
  {
   "cell_type": "code",
   "execution_count": null,
   "metadata": {
    "id": "YR-jsvPqt6F2"
   },
   "outputs": [],
   "source": [
    "# For simplicity, let's say a full flight crew is always 5 people.\n",
    "planes['capacity']"
   ]
  },
  {
   "cell_type": "code",
   "execution_count": null,
   "metadata": {
    "id": "vINEFAfOuUuy"
   },
   "outputs": [],
   "source": [
    "planes['seats_per_engine']"
   ]
  },
  {
   "cell_type": "code",
   "execution_count": null,
   "metadata": {
    "id": "vy1pw4PHu3W1"
   },
   "outputs": [],
   "source": [
    "planes['summary'] "
   ]
  },
  {
   "cell_type": "code",
   "execution_count": null,
   "metadata": {
    "id": "jvTpVoblvDmi"
   },
   "outputs": [],
   "source": [
    "planes['lower_manufacturer']"
   ]
  },
  {
   "cell_type": "markdown",
   "metadata": {
    "id": "WuZBrHchPDLp"
   },
   "source": [
    "## Mapping Values"
   ]
  },
  {
   "cell_type": "code",
   "execution_count": null,
   "metadata": {
    "id": "hps7ggsTO6E0"
   },
   "outputs": [],
   "source": [
    "data_df"
   ]
  },
  {
   "cell_type": "code",
   "execution_count": null,
   "metadata": {
    "id": "m5mvoI1vPFSa"
   },
   "outputs": [],
   "source": [
    "country_dict"
   ]
  },
  {
   "cell_type": "code",
   "execution_count": null,
   "metadata": {
    "id": "bflDaIS8PHcH"
   },
   "outputs": [],
   "source": [
    "data_df['short_name'] = \n",
    "data_df"
   ]
  },
  {
   "cell_type": "markdown",
   "metadata": {
    "id": "s8koTYCot6vN"
   },
   "source": [
    "# Summarizing Data"
   ]
  },
  {
   "cell_type": "code",
   "execution_count": null,
   "metadata": {
    "id": "ClLyHGgLcBp_"
   },
   "outputs": [],
   "source": [
    "# Describe function\n",
    "planes.describe()"
   ]
  },
  {
   "cell_type": "code",
   "execution_count": null,
   "metadata": {
    "id": "85fkQ7VMsiBT"
   },
   "outputs": [],
   "source": [
    "#unique values\n",
    "planes['manufacturer']"
   ]
  },
  {
   "cell_type": "code",
   "execution_count": null,
   "metadata": {
    "id": "cIVERcp2srEG"
   },
   "outputs": [],
   "source": [
    "#value count\n",
    "planes['manufacturer']"
   ]
  },
  {
   "cell_type": "code",
   "execution_count": null,
   "metadata": {
    "id": "yYIl9-Jzs6Ho"
   },
   "outputs": [],
   "source": [
    "# Check null value\n",
    "planes['year'].isna().sum()"
   ]
  },
  {
   "cell_type": "markdown",
   "metadata": {
    "id": "qMkemWcVTwPm"
   },
   "source": [
    "## Summary Methods"
   ]
  },
  {
   "cell_type": "code",
   "execution_count": null,
   "metadata": {
    "id": "CDrJA7aPtIs2"
   },
   "outputs": [],
   "source": [
    "flights = pd.read_csv('https://raw.githubusercontent.com/pp-ct/scg_python/main/data/flights.csv')"
   ]
  },
  {
   "cell_type": "code",
   "execution_count": null,
   "metadata": {
    "id": "OugZUVkAV9s_"
   },
   "outputs": [],
   "source": [
    "flights.sample(5)"
   ]
  },
  {
   "cell_type": "code",
   "execution_count": null,
   "metadata": {
    "id": "fuXr_Kr9ex0L"
   },
   "outputs": [],
   "source": [
    "# sum\n",
    "flights['distance']"
   ]
  },
  {
   "cell_type": "code",
   "execution_count": null,
   "metadata": {
    "id": "p5uP2i6BT374"
   },
   "outputs": [],
   "source": [
    "# mean\n",
    "flights['distance']"
   ]
  },
  {
   "cell_type": "code",
   "execution_count": null,
   "metadata": {
    "id": "T4c8QeXGT34r"
   },
   "outputs": [],
   "source": [
    "# median\n",
    "flights['distance']"
   ]
  },
  {
   "cell_type": "code",
   "execution_count": null,
   "metadata": {
    "id": "hZgTMopNT3zU"
   },
   "outputs": [],
   "source": [
    "# mode\n",
    "flights['distance']"
   ]
  },
  {
   "cell_type": "code",
   "execution_count": null,
   "metadata": {
    "id": "TqfRr2OXT3sf"
   },
   "outputs": [],
   "source": [
    "# % value count\n",
    "flights['distance']"
   ]
  },
  {
   "cell_type": "code",
   "execution_count": null,
   "metadata": {
    "id": "PDPiVRoVUeGH"
   },
   "outputs": [],
   "source": [
    "# describe\n",
    "print(flights['distance'].dtype)\n",
    "flights['distance']"
   ]
  },
  {
   "cell_type": "code",
   "execution_count": null,
   "metadata": {
    "id": "enT3DKoyUiqP"
   },
   "outputs": [],
   "source": [
    "# describe\n",
    "print(flights['carrier'].dtype)\n",
    "flights['carrier']"
   ]
  },
  {
   "cell_type": "markdown",
   "metadata": {
    "id": "1mfdNtxMUMoN"
   },
   "source": [
    "## The Aggregation Method"
   ]
  },
  {
   "cell_type": "code",
   "execution_count": null,
   "metadata": {
    "id": "znYWqCTKT3es"
   },
   "outputs": [],
   "source": [
    "flights.agg({\n",
    "    'sched_dep_time': ['mean'],\n",
    "    'dep_time': ['mean']\n",
    "})"
   ]
  },
  {
   "cell_type": "code",
   "execution_count": null,
   "metadata": {
    "id": "88J1AHMpVLYt"
   },
   "outputs": [],
   "source": [
    "# Your turn distance: min, max, mean | air_time: mean\n"
   ]
  },
  {
   "cell_type": "code",
   "execution_count": null,
   "metadata": {
    "id": "UZNhh7Y8VEkc"
   },
   "outputs": [],
   "source": [
    "flights.describe(include = ['int', 'float', 'object'])"
   ]
  }
 ],
 "metadata": {
  "colab": {
   "authorship_tag": "ABX9TyODpR7Gml8aYbM0ONSG2eIV",
   "name": "Chapter_4.ipynb",
   "provenance": []
  },
  "kernelspec": {
   "display_name": "Python 3",
   "language": "python",
   "name": "python3"
  },
  "language_info": {
   "codemirror_mode": {
    "name": "ipython",
    "version": 3
   },
   "file_extension": ".py",
   "mimetype": "text/x-python",
   "name": "python",
   "nbconvert_exporter": "python",
   "pygments_lexer": "ipython3",
   "version": "3.7.3"
  }
 },
 "nbformat": 4,
 "nbformat_minor": 4
}
