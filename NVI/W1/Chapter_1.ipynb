{
 "cells": [
  {
   "cell_type": "markdown",
   "metadata": {
    "id": "VRlJjKb5xdql"
   },
   "source": [
    "# **Introduction to Python for Data Science**"
   ]
  },
  {
   "cell_type": "markdown",
   "metadata": {
    "id": "l-kytE1_xilg"
   },
   "source": [
    "## Course Objectives\n",
    "\n",
    "The following are the primary learning objectives of this course:\n",
    "1. Establish a mental model of the Python programming language to enable future self-learning.\n",
    "2. Build awareness and basic skills in the core data science area of data visualization.\n",
    "3. Exploratory Data Analysis, develop comprehensive skills in the importing/exporting, wrangling, aggregating and joining of data using Python."
   ]
  },
  {
   "cell_type": "markdown",
   "metadata": {
    "id": "pqjseiIuyGF9"
   },
   "source": [
    "## Course Agenda\n",
    "\n",
    "- Python and Colab Overview \n",
    "- Data Types and Variables\n",
    "- Operators\n",
    "- Compound data structures\n",
    "- **Break / 10:15 - 10:30**\n",
    "- Conditionals, Loops, and Functions\n",
    "- Using external libraries (Pandas)"
   ]
  },
  {
   "cell_type": "markdown",
   "metadata": {
    "id": "HmE5xm7t0QnY"
   },
   "source": [
    "\n",
    "\n",
    "---\n",
    "\n"
   ]
  },
  {
   "cell_type": "markdown",
   "metadata": {
    "id": "1aVZ5IK8zxil"
   },
   "source": [
    "# **Python and Colab Overview**\n",
    "\n",
    "## Python is...\n",
    "* a *high-level*, *structured*, *open-source*, *interpreted* programming language (scripting)\n",
    "* a really good choice for almost any programming task\n",
    "* a very popular and effective choice for data science tasks\n",
    "\n",
    "According to StackOverflow Trends, more than 11 percent of StackOverflow questions were tagged with \"python\" in late 2018. All other languages fell well short of this number:\n",
    "\n",
    "| Language | Percent |\n",
    "|----------|---------|\n",
    "| Python   | 11.2%   |\n",
    "| Java     | 7.7%    |\n",
    "| C++      | 2.75%   |\n",
    "| R        | 2.7%    |\n",
    "| Matlab   | < 1%    |\n",
    "| Scala    | < 1%    |\n",
    "| SAS      | < 1%    |\n",
    "| Julia    | < 1%    |\n",
    "\n"
   ]
  },
  {
   "cell_type": "markdown",
   "metadata": {
    "id": "EfhjqF0L0TiV"
   },
   "source": [
    "## Why are data scientists choosing Python?\n",
    "\n",
    "* It can do anything...so everybody uses it\n",
    "* Open-source and community support\n",
    "* Concise syntax, readability and ease-of-use\n",
    "* Strength in numeric computations and cutting edge data science libraries (numpy and pandas)"
   ]
  },
  {
   "cell_type": "markdown",
   "metadata": {
    "id": "rmRaP2i63uL3"
   },
   "source": [
    "## What is Colaboratory?\n",
    "\n",
    "Colaboratory, or “Colab” for short, is a product from Google Research. Colab allows anybody to write and execute arbitrary python code through the browser, and is especially well suited to machine learning, data analysis and education. More technically, Colab is a hosted Jupyter notebook service that requires no setup to use, while providing free access to computing resources including GPUs.\n",
    "\n",
    "<br>\n",
    "\n",
    "**What is the difference between Jupyter and Colab?**\n",
    "\n",
    "Jupyter is the open source project on which Colab is based. Colab allows you to use and share Jupyter notebooks with others without having to download, install, or run anything.\n",
    "\n"
   ]
  },
  {
   "cell_type": "markdown",
   "metadata": {
    "id": "6F_0sheR47mI"
   },
   "source": [
    "## Notebook Cells\n",
    "\n",
    "Jupyter notebooks are organized by **cells**. These cells are at the core of a notebook:\n",
    "* When using Jupyter, all Python code is typed into and run from a cell\n",
    "* Comments, markdown, HTML, LaTeX can also be rendered within a cell\n",
    "\n",
    "\n"
   ]
  },
  {
   "cell_type": "markdown",
   "metadata": {
    "id": "RFriQENh5ZoF"
   },
   "source": [
    "# **Your Turn**\n",
    "\n",
    "1. Create a new *markdown* cell. Write your name in it.\n",
    "2. Create a new *code* cell. Write `print(\"Hello World!\")` and run it."
   ]
  }
 ],
 "metadata": {
  "colab": {
   "authorship_tag": "ABX9TyPaG5vFJttUS/JrrljJePQw",
   "collapsed_sections": [],
   "name": "Chapter_1.ipynb",
   "provenance": []
  },
  "kernelspec": {
   "display_name": "Python 3",
   "language": "python",
   "name": "python3"
  },
  "language_info": {
   "codemirror_mode": {
    "name": "ipython",
    "version": 3
   },
   "file_extension": ".py",
   "mimetype": "text/x-python",
   "name": "python",
   "nbconvert_exporter": "python",
   "pygments_lexer": "ipython3",
   "version": "3.7.3"
  }
 },
 "nbformat": 4,
 "nbformat_minor": 4
}
