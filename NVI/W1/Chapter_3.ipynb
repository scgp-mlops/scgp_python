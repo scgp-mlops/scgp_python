{
 "cells": [
  {
   "cell_type": "markdown",
   "metadata": {
    "id": "kk4ezY2MAuZN"
   },
   "source": [
    "# Conditions"
   ]
  },
  {
   "cell_type": "markdown",
   "metadata": {
    "id": "F2819ziaAzJu"
   },
   "source": [
    "Python uses boolean logic to evaluate conditions. The boolean values True and False are returned when an expression is compared or evaluated. For example:"
   ]
  },
  {
   "cell_type": "code",
   "execution_count": null,
   "metadata": {
    "colab": {
     "base_uri": "https://localhost:8080/"
    },
    "executionInfo": {
     "elapsed": 877,
     "status": "ok",
     "timestamp": 1615830685929,
     "user": {
      "displayName": "Chalermpon Thongmotai",
      "photoUrl": "https://lh3.googleusercontent.com/a-/AOh14GiJe_Um4LokhrKbfdUuAOXI_dClsP5Mu0IpCYDGbQ=s64",
      "userId": "07042576794053311391"
     },
     "user_tz": -420
    },
    "id": "oGnYR17X_Epa",
    "outputId": "bd3b32a8-5d1b-4b79-f38c-035b8600d048"
   },
   "outputs": [],
   "source": [
    "x = 2\n",
    "print(x == 2)\n",
    "print(x == 3)\n",
    "print(x < 3)"
   ]
  },
  {
   "cell_type": "markdown",
   "metadata": {
    "id": "jtJivbRrBIBO"
   },
   "source": [
    "Notice that variable assignment is done using a single equals operator \"=\", whereas comparison between two variables is done using the double equals operator \"==\". The \"not equals\" operator is marked as \"!=\"."
   ]
  },
  {
   "cell_type": "markdown",
   "metadata": {
    "id": "kBFyv3z0yX-4"
   },
   "source": [
    "## Boolean operators\n",
    "\n",
    "The \"and\" and \"or\" boolean operators allow building complex boolean expressions, for example:"
   ]
  },
  {
   "cell_type": "code",
   "execution_count": null,
   "metadata": {
    "id": "83PjrJ9rydbE"
   },
   "outputs": [],
   "source": [
    "name = \"John\"\n",
    "age = 23\n",
    "if name == \"John\" and age == 23:\n",
    "    print(\"Your name is John, and you are also 23 years old.\")\n",
    "\n",
    "if name == \"John\" or name == \"Rick\":\n",
    "    print(\"Your name is either John or Rick.\")"
   ]
  },
  {
   "cell_type": "markdown",
   "metadata": {
    "id": "tySDwismyhYN"
   },
   "source": [
    "## The \"in\" operator\n",
    "\n",
    "The \"in\" operator could be used to check if a specified object exists within an iterable object container, such as a list:"
   ]
  },
  {
   "cell_type": "code",
   "execution_count": null,
   "metadata": {
    "id": "izFK-oM5ylk2"
   },
   "outputs": [],
   "source": [
    "name = \"John\"\n",
    "if name in [\"John\", \"Rick\"]:\n",
    "    print(\"Your name is either John or Rick.\")"
   ]
  },
  {
   "cell_type": "markdown",
   "metadata": {
    "id": "pOzAj9JkyoOD"
   },
   "source": [
    "## If and elif\n",
    "Python uses indentation to define code blocks, instead of brackets. The standard Python indentation is 4 spaces, although tabs and any other space size will work, as long as it is consistent. Notice that code blocks do not need any termination.\n",
    "\n",
    "Here is an example for using Python's \"if\" statement using code blocks:"
   ]
  },
  {
   "cell_type": "code",
   "execution_count": null,
   "metadata": {
    "id": "t075piDWy0yR"
   },
   "outputs": [],
   "source": [
    "statement = False\n",
    "another_statement = True\n",
    "if statement is True:\n",
    "    # do something\n",
    "    pass\n",
    "elif another_statement is True: # else if\n",
    "    # do something else\n",
    "    pass\n",
    "else:\n",
    "    # do another thing\n",
    "    pass"
   ]
  },
  {
   "cell_type": "markdown",
   "metadata": {
    "id": "ivMvr1QEzMjn"
   },
   "source": [
    "## The \"not\" operator\n",
    "Using \"not\" before a boolean expression inverts it:"
   ]
  },
  {
   "cell_type": "code",
   "execution_count": null,
   "metadata": {
    "colab": {
     "base_uri": "https://localhost:8080/"
    },
    "executionInfo": {
     "elapsed": 969,
     "status": "ok",
     "timestamp": 1615860668815,
     "user": {
      "displayName": "Chalermpon Thongmotai",
      "photoUrl": "https://lh3.googleusercontent.com/a-/AOh14GiJe_Um4LokhrKbfdUuAOXI_dClsP5Mu0IpCYDGbQ=s64",
      "userId": "07042576794053311391"
     },
     "user_tz": -420
    },
    "id": "Ps1egj_sy9hH",
    "outputId": "55228488-d5f5-4171-e550-8debfcbb808b"
   },
   "outputs": [],
   "source": [
    "print(not False) # Prints out True\n",
    "print((not False) == (False)) # Prints out False"
   ]
  },
  {
   "cell_type": "markdown",
   "metadata": {
    "id": "oqkbaBL0zScU"
   },
   "source": [
    "## Your turn\n",
    "\n",
    "Print:  \n",
    "* A for score from 80 onward\n",
    "* B for score from 70 to 79\n",
    "* C for score from 60 to 69\n",
    "* D for score from 50 to 59\n",
    "* F for score less than 50\n"
   ]
  },
  {
   "cell_type": "code",
   "execution_count": null,
   "metadata": {
    "id": "SUG975DFzPt9"
   },
   "outputs": [],
   "source": [
    "print('A')\n",
    "print('B')\n",
    "print('C')\n",
    "print('D')\n",
    "print('F')"
   ]
  },
  {
   "cell_type": "markdown",
   "metadata": {
    "id": "ntmeUw6rz89Y"
   },
   "source": [
    "# Loops"
   ]
  },
  {
   "cell_type": "markdown",
   "metadata": {
    "id": "rE0dE4q59bPd"
   },
   "source": [
    "There are two types of loops in Python, for and while."
   ]
  },
  {
   "cell_type": "markdown",
   "metadata": {
    "id": "kl-rSlAP0MLR"
   },
   "source": [
    "## 1: The \"for\" loop\n",
    "For loops iterate over a given sequence. Here is an example:"
   ]
  },
  {
   "cell_type": "code",
   "execution_count": null,
   "metadata": {
    "id": "U6C5JNS_0Pke"
   },
   "outputs": [],
   "source": [
    "primes = [2, 3, 5, 7]\n",
    "\n",
    "# Let's try it here"
   ]
  },
  {
   "cell_type": "markdown",
   "metadata": {
    "id": "LdrPl3HZ0nG-"
   },
   "source": [
    "For loops can iterate over a sequence of numbers using the \"range\" and \"xrange\" functions. The difference between range and xrange is that the range function returns a new list with numbers of that specified range, whereas xrange returns an iterator, which is more efficient. (Python 3 uses the range function, which acts like xrange). Note that the range function is zero based."
   ]
  },
  {
   "cell_type": "code",
   "execution_count": null,
   "metadata": {
    "colab": {
     "base_uri": "https://localhost:8080/"
    },
    "executionInfo": {
     "elapsed": 880,
     "status": "ok",
     "timestamp": 1615862455894,
     "user": {
      "displayName": "Chalermpon Thongmotai",
      "photoUrl": "https://lh3.googleusercontent.com/a-/AOh14GiJe_Um4LokhrKbfdUuAOXI_dClsP5Mu0IpCYDGbQ=s64",
      "userId": "07042576794053311391"
     },
     "user_tz": -420
    },
    "id": "PpY7fvTK0cIC",
    "outputId": "6df632da-71bb-411d-bd51-4a4a654b04eb"
   },
   "outputs": [],
   "source": [
    "# range(start, stop, step)\n",
    "\n",
    "# Prints out the numbers 0,1,2,3,4 using range\n"
   ]
  },
  {
   "cell_type": "markdown",
   "metadata": {
    "id": "ShsU_sMa0wUE"
   },
   "source": [
    "## 2: \"while\" loops\n",
    "While loops repeat as long as a certain boolean condition is met. For example:"
   ]
  },
  {
   "cell_type": "code",
   "execution_count": null,
   "metadata": {
    "colab": {
     "base_uri": "https://localhost:8080/"
    },
    "executionInfo": {
     "elapsed": 914,
     "status": "ok",
     "timestamp": 1615862409336,
     "user": {
      "displayName": "Chalermpon Thongmotai",
      "photoUrl": "https://lh3.googleusercontent.com/a-/AOh14GiJe_Um4LokhrKbfdUuAOXI_dClsP5Mu0IpCYDGbQ=s64",
      "userId": "07042576794053311391"
     },
     "user_tz": -420
    },
    "id": "lMS68Ov20x9W",
    "outputId": "77754563-ce8b-49ab-dee8-b9352fe61906"
   },
   "outputs": [],
   "source": [
    "# Prints out 0,1,2,3,4\n",
    "count = 0\n",
    "while count < 5:\n",
    "  print(count)\n",
    "  count += 1"
   ]
  },
  {
   "cell_type": "markdown",
   "metadata": {
    "id": "8Eg6D5A01Bhe"
   },
   "source": [
    "## \"break\" and \"continue\" statements\n",
    "\n",
    "break is used to exit a for loop or a while loop, whereas continue is used to skip the current block, and return to the \"for\" or \"while\" statement. A few examples:"
   ]
  },
  {
   "cell_type": "code",
   "execution_count": null,
   "metadata": {
    "colab": {
     "base_uri": "https://localhost:8080/"
    },
    "executionInfo": {
     "elapsed": 1560,
     "status": "ok",
     "timestamp": 1615861150763,
     "user": {
      "displayName": "Chalermpon Thongmotai",
      "photoUrl": "https://lh3.googleusercontent.com/a-/AOh14GiJe_Um4LokhrKbfdUuAOXI_dClsP5Mu0IpCYDGbQ=s64",
      "userId": "07042576794053311391"
     },
     "user_tz": -420
    },
    "id": "BHDJmFsz03YD",
    "outputId": "37ca57ed-d1b4-4762-e55a-519d36081499"
   },
   "outputs": [],
   "source": [
    "# Prints out 0,1,2,3,4\n",
    "count = 0\n",
    "while True:\n",
    "    print(count)\n",
    "    count += 1\n",
    "    if count >= 5:\n",
    "        break"
   ]
  },
  {
   "cell_type": "code",
   "execution_count": null,
   "metadata": {
    "id": "-XdhSljg1yCF"
   },
   "outputs": [],
   "source": [
    "# Prints out only odd numbers - 1,3,5,7,9\n",
    "for x in range(10):\n",
    "    # Check if x is even\n",
    "    if x % 2 == 0:\n",
    "        continue\n",
    "    print(x)"
   ]
  },
  {
   "cell_type": "markdown",
   "metadata": {
    "id": "fqgvYlIo1RSb"
   },
   "source": [
    "## Can we use \"else\" clause for loops?\n",
    "\n",
    "Unlike languages like C,CPP.. we can use else for loops. When the loop condition of \"for\" or \"while\" statement fails then code part in \"else\" is executed. If a break statement is executed inside the for loop then the \"else\" part is skipped. Note that the \"else\" part is executed even if there is a continue statement.\n",
    "\n",
    "Here are a few examples:"
   ]
  },
  {
   "cell_type": "code",
   "execution_count": null,
   "metadata": {
    "colab": {
     "base_uri": "https://localhost:8080/"
    },
    "executionInfo": {
     "elapsed": 1596,
     "status": "ok",
     "timestamp": 1615861214901,
     "user": {
      "displayName": "Chalermpon Thongmotai",
      "photoUrl": "https://lh3.googleusercontent.com/a-/AOh14GiJe_Um4LokhrKbfdUuAOXI_dClsP5Mu0IpCYDGbQ=s64",
      "userId": "07042576794053311391"
     },
     "user_tz": -420
    },
    "id": "IX9Py5TK1G3H",
    "outputId": "d7f6fcd3-e391-421e-982f-8efb434bb478"
   },
   "outputs": [],
   "source": [
    "# Prints out 0,1,2,3,4 and then it prints \"count value reached 5\"\n",
    "\n",
    "count=0\n",
    "while(count<5):\n",
    "    print(count)\n",
    "    count +=1\n",
    "else:\n",
    "    print(\"count value reached %d\" %(count))"
   ]
  },
  {
   "cell_type": "code",
   "execution_count": null,
   "metadata": {
    "id": "THea0ezb1Wf3"
   },
   "outputs": [],
   "source": [
    "# Prints out 1,2,3,4\n",
    "for i in range(1, 10):\n",
    "    if(i%5==0):\n",
    "        break\n",
    "    print(i)\n",
    "else:\n",
    "    print(\"this is not printed because for loop is terminated because of break but not due to fail in condition\")"
   ]
  },
  {
   "cell_type": "code",
   "execution_count": null,
   "metadata": {
    "id": "AcVbm3rbB1kp"
   },
   "outputs": [],
   "source": [
    "phonebook = {\"John\" : 938477566,\"Jack\" : 938377264,\"Jill\" : 947662781}\n",
    "for name, number in phonebook.items():\n",
    "    print(\"Phone number of %s is %d\" % (name, number))"
   ]
  },
  {
   "cell_type": "markdown",
   "metadata": {
    "id": "z89LdvS_6SU1"
   },
   "source": [
    "## Your turn:\n",
    "\n",
    "Loop through and print out all even numbers from the numbers list in the same order they are received. Don't print any numbers that come after 237 in the sequence.\n",
    "\n"
   ]
  },
  {
   "cell_type": "code",
   "execution_count": null,
   "metadata": {
    "id": "nZq_7AKO6T_H"
   },
   "outputs": [],
   "source": [
    "numbers = [\n",
    "    951, 402, 984, 651, 360, 69, 408, 319, 601, 485, 980, 507, 725, 547, 544,\n",
    "    615, 83, 165, 141, 501, 263, 617, 865, 575, 219, 390, 984, 592, 236, 105, 942, 941,\n",
    "    386, 462, 47, 418, 907, 344, 236, 375, 823, 566, 597, 978, 328, 615, 953, 345,\n",
    "    399, 162, 758, 219, 918, 237, 412, 566, 826, 248, 866, 950, 626, 949, 687, 217,\n",
    "    815, 67, 104, 58, 512, 24, 892, 894, 767, 553, 81, 379, 843, 831, 445, 742, 717,\n",
    "    958, 609, 842, 451, 688, 753, 854, 685, 93, 857, 440, 380, 126, 721, 328, 753, 470,\n",
    "    743, 527\n",
    "]\n",
    "\n",
    "# Hint num % 2 == 0\n"
   ]
  },
  {
   "cell_type": "markdown",
   "metadata": {
    "id": "Evva4IT_7Y-b"
   },
   "source": [
    "# Functions\n"
   ]
  },
  {
   "cell_type": "markdown",
   "metadata": {
    "id": "K7YGLqVk9hhT"
   },
   "source": [
    "What are Functions?\n",
    "\n",
    "Functions are a convenient way to divide your code into useful blocks, allowing us to order our code, make it more readable, reuse it and save some time. Also functions are a key way to define interfaces so programmers can share their code."
   ]
  },
  {
   "cell_type": "code",
   "execution_count": null,
   "metadata": {
    "id": "T7EF9EWo9W1P"
   },
   "outputs": [],
   "source": [
    "def my_function():\n",
    "    print(\"Hello From My Function!\")\n",
    "\n",
    "def my_function_with_args(username, greeting):\n",
    "    print(\"Hello, %s , From My Function!, I wish you %s\"%(username, greeting))\n",
    "\n",
    "def sum_two_numbers(a, b):\n",
    "    return a + b"
   ]
  },
  {
   "cell_type": "code",
   "execution_count": null,
   "metadata": {
    "executionInfo": {
     "elapsed": 796,
     "status": "ok",
     "timestamp": 1615863484467,
     "user": {
      "displayName": "Chalermpon Thongmotai",
      "photoUrl": "https://lh3.googleusercontent.com/a-/AOh14GiJe_Um4LokhrKbfdUuAOXI_dClsP5Mu0IpCYDGbQ=s64",
      "userId": "07042576794053311391"
     },
     "user_tz": -420
    },
    "id": "4LzpYNlw98OT"
   },
   "outputs": [],
   "source": [
    "# Call each function"
   ]
  }
 ],
 "metadata": {
  "colab": {
   "authorship_tag": "ABX9TyOMuuYH5wJmmujfINEWyo/w",
   "name": "Chapter_3.ipynb",
   "provenance": []
  },
  "kernelspec": {
   "display_name": "Python 3",
   "language": "python",
   "name": "python3"
  },
  "language_info": {
   "codemirror_mode": {
    "name": "ipython",
    "version": 3
   },
   "file_extension": ".py",
   "mimetype": "text/x-python",
   "name": "python",
   "nbconvert_exporter": "python",
   "pygments_lexer": "ipython3",
   "version": "3.7.3"
  }
 },
 "nbformat": 4,
 "nbformat_minor": 4
}
