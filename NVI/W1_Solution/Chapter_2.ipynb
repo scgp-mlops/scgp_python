{
 "cells": [
  {
   "cell_type": "markdown",
   "metadata": {
    "id": "7EUcyaJV9N6g"
   },
   "source": [
    "# Data Types and Variables \n",
    "\n",
    "A variable is a container for a value. It can be assigned a name, you can use it to refer to it later in the program. Based on the value assigned, the interpreter decides its data type. You can always store a different type in a variable.\n",
    "\n",
    "\n",
    "* Numbers\n",
    "* String\n",
    "* Boolean\n",
    "* List\n",
    "* Dictionary"
   ]
  },
  {
   "cell_type": "markdown",
   "metadata": {
    "id": "7ghvt3biCemx"
   },
   "source": [
    "## Basic Data Types and Math"
   ]
  },
  {
   "cell_type": "code",
   "execution_count": 1,
   "metadata": {
    "id": "zPyfi9yV8es1"
   },
   "outputs": [],
   "source": [
    "# An integer assignment\n",
    "counter = 10\n",
    "# A floating point\n",
    "miles = 10.15\n",
    "# Multiple Assignment\n",
    "a = b = c =1 "
   ]
  },
  {
   "cell_type": "code",
   "execution_count": 2,
   "metadata": {
    "colab": {
     "base_uri": "https://localhost:8080/"
    },
    "executionInfo": {
     "elapsed": 2692,
     "status": "ok",
     "timestamp": 1615826040733,
     "user": {
      "displayName": "Chalermpon Thongmotai",
      "photoUrl": "https://lh3.googleusercontent.com/a-/AOh14GiJe_Um4LokhrKbfdUuAOXI_dClsP5Mu0IpCYDGbQ=s64",
      "userId": "07042576794053311391"
     },
     "user_tz": -420
    },
    "id": "8-41l3RmvDPR",
    "outputId": "cf72844c-0c8c-4878-c7f1-ff32b670696a"
   },
   "outputs": [
    {
     "data": {
      "text/plain": [
       "3"
      ]
     },
     "execution_count": 2,
     "metadata": {},
     "output_type": "execute_result"
    }
   ],
   "source": [
    "1 + 2"
   ]
  },
  {
   "cell_type": "code",
   "execution_count": 3,
   "metadata": {
    "colab": {
     "base_uri": "https://localhost:8080/"
    },
    "executionInfo": {
     "elapsed": 2677,
     "status": "ok",
     "timestamp": 1615826040736,
     "user": {
      "displayName": "Chalermpon Thongmotai",
      "photoUrl": "https://lh3.googleusercontent.com/a-/AOh14GiJe_Um4LokhrKbfdUuAOXI_dClsP5Mu0IpCYDGbQ=s64",
      "userId": "07042576794053311391"
     },
     "user_tz": -420
    },
    "id": "Xo3hGiU6vH7m",
    "outputId": "2959bdf6-4dcd-491b-8088-c7d95e1f3345"
   },
   "outputs": [
    {
     "data": {
      "text/plain": [
       "51.24999999999999"
      ]
     },
     "execution_count": 3,
     "metadata": {},
     "output_type": "execute_result"
    }
   ],
   "source": [
    "12.5 * 4.1"
   ]
  },
  {
   "cell_type": "code",
   "execution_count": 4,
   "metadata": {
    "colab": {
     "base_uri": "https://localhost:8080/"
    },
    "executionInfo": {
     "elapsed": 13915,
     "status": "ok",
     "timestamp": 1615826060781,
     "user": {
      "displayName": "Chalermpon Thongmotai",
      "photoUrl": "https://lh3.googleusercontent.com/a-/AOh14GiJe_Um4LokhrKbfdUuAOXI_dClsP5Mu0IpCYDGbQ=s64",
      "userId": "07042576794053311391"
     },
     "user_tz": -420
    },
    "id": "7CpgSJ8-vL9r",
    "outputId": "ba5da6a3-a852-41e7-b7f4-36473cabdab2"
   },
   "outputs": [
    {
     "data": {
      "text/plain": [
       "8"
      ]
     },
     "execution_count": 4,
     "metadata": {},
     "output_type": "execute_result"
    }
   ],
   "source": [
    "2 ** 3"
   ]
  },
  {
   "cell_type": "code",
   "execution_count": 5,
   "metadata": {
    "id": "wCG9BWv3vR5o"
   },
   "outputs": [
    {
     "data": {
      "text/plain": [
       "21"
      ]
     },
     "execution_count": 5,
     "metadata": {},
     "output_type": "execute_result"
    }
   ],
   "source": [
    "ten = 10\n",
    "eleven = 11\n",
    "ten + eleven"
   ]
  },
  {
   "cell_type": "markdown",
   "metadata": {
    "id": "HWj5ex8dAChU"
   },
   "source": [
    "## String"
   ]
  },
  {
   "cell_type": "code",
   "execution_count": 6,
   "metadata": {},
   "outputs": [
    {
     "name": "stdout",
     "output_type": "stream",
     "text": [
      "python programing\n"
     ]
    }
   ],
   "source": [
    "text = 'python' + ' ' + 'programing'\n",
    "print(text)"
   ]
  },
  {
   "cell_type": "code",
   "execution_count": 7,
   "metadata": {
    "colab": {
     "base_uri": "https://localhost:8080/"
    },
    "executionInfo": {
     "elapsed": 1084,
     "status": "ok",
     "timestamp": 1615797819096,
     "user": {
      "displayName": "Chalermpon Thongmotai",
      "photoUrl": "https://lh3.googleusercontent.com/a-/AOh14GiJe_Um4LokhrKbfdUuAOXI_dClsP5Mu0IpCYDGbQ=s64",
      "userId": "07042576794053311391"
     },
     "user_tz": -420
    },
    "id": "8HFqwZ_uAI_G",
    "outputId": "654046fa-0a03-414d-dbf9-79f0d766e769"
   },
   "outputs": [
    {
     "name": "stdout",
     "output_type": "stream",
     "text": [
      "python programing\n",
      "p\n",
      "tho\n",
      "thon programing\n",
      "python programing_example\n"
     ]
    }
   ],
   "source": [
    "text = 'python' + ' ' + 'programing'\n",
    "# Prints complete string\n",
    "print(text)\n",
    "# Prints first character of the string\n",
    "print(text[0])\n",
    "# Prints characters starting from 3rd to 5th\n",
    "print(text[2:5])\n",
    "# Prints string starting from 3rd character\n",
    "print(text[2:])\n",
    "# Prints concatenated string\n",
    "print(text + '_example')"
   ]
  },
  {
   "cell_type": "markdown",
   "metadata": {
    "id": "0z_MUDDZv8aF"
   },
   "source": [
    "## Boolean"
   ]
  },
  {
   "cell_type": "code",
   "execution_count": 8,
   "metadata": {
    "executionInfo": {
     "elapsed": 877,
     "status": "ok",
     "timestamp": 1615826316070,
     "user": {
      "displayName": "Chalermpon Thongmotai",
      "photoUrl": "https://lh3.googleusercontent.com/a-/AOh14GiJe_Um4LokhrKbfdUuAOXI_dClsP5Mu0IpCYDGbQ=s64",
      "userId": "07042576794053311391"
     },
     "user_tz": -420
    },
    "id": "OPQ-FkuWvxbc"
   },
   "outputs": [],
   "source": [
    "is_used = False\n",
    "is_checked = True"
   ]
  },
  {
   "cell_type": "markdown",
   "metadata": {
    "id": "OpiOAQE1EAO8"
   },
   "source": [
    "## List"
   ]
  },
  {
   "cell_type": "markdown",
   "metadata": {
    "id": "j-CWWEp_2gDN"
   },
   "source": [
    "List is an ordered sequence of items. It is one of the most used datatype in Python and is very flexible. All the items in a list do not need to be of the same type.\n",
    "\n",
    "Declaring a list is pretty straight forward. Items separated by commas are enclosed within brackets [ ]."
   ]
  },
  {
   "cell_type": "code",
   "execution_count": 9,
   "metadata": {
    "id": "Qt-XIlRRD8ee"
   },
   "outputs": [
    {
     "data": {
      "text/plain": [
       "[1, 2, 3, 4, 5]"
      ]
     },
     "execution_count": 9,
     "metadata": {},
     "output_type": "execute_result"
    }
   ],
   "source": [
    "# A list of integers\n",
    "even_number = [1, 2, 3, 4, 5]\n",
    "even_number"
   ]
  },
  {
   "cell_type": "markdown",
   "metadata": {
    "id": "JdrI8DsqzKCn"
   },
   "source": [
    "Individual elements of a list can be accessed by specifying a location in brackets. This is called **indexing**.\n",
    "\n",
    "Python is **zero-indexed**, so the first element is element 0!"
   ]
  },
  {
   "cell_type": "code",
   "execution_count": 10,
   "metadata": {
    "id": "pduKNKcVzP6A"
   },
   "outputs": [
    {
     "name": "stdout",
     "output_type": "stream",
     "text": [
      "The 1st number =  1\n",
      "The last number =  4\n",
      "The last number =  5\n",
      "All numbers from 3rd position =  [3, 4, 5]\n"
     ]
    }
   ],
   "source": [
    "print(\"The 1st number = \", even_number[0])\n",
    "print(\"The last number = \", even_number[-2])\n",
    "print(\"The last number = \", even_number[4])\n",
    "print(\"All numbers from 3rd position = \", even_number[2:])"
   ]
  },
  {
   "cell_type": "code",
   "execution_count": 11,
   "metadata": {
    "colab": {
     "base_uri": "https://localhost:8080/"
    },
    "executionInfo": {
     "elapsed": 1184,
     "status": "ok",
     "timestamp": 1615828395165,
     "user": {
      "displayName": "Chalermpon Thongmotai",
      "photoUrl": "https://lh3.googleusercontent.com/a-/AOh14GiJe_Um4LokhrKbfdUuAOXI_dClsP5Mu0IpCYDGbQ=s64",
      "userId": "07042576794053311391"
     },
     "user_tz": -420
    },
    "id": "wzgSd4HAFFKG",
    "outputId": "16b8489d-117c-4fb5-df85-9d51a9e9e0cf"
   },
   "outputs": [
    {
     "data": {
      "text/plain": [
       "['abc', 'def']"
      ]
     },
     "execution_count": 11,
     "metadata": {},
     "output_type": "execute_result"
    }
   ],
   "source": [
    "# A list of strings\n",
    "strings = ['abc', 'def']\n",
    "strings"
   ]
  },
  {
   "cell_type": "markdown",
   "metadata": {
    "id": "t2J7ef6cyV60"
   },
   "source": [
    "Lists are highly flexible.\n",
    "\n",
    "They can contain heterogeneous data (i.e. strings, booleans, and numbers can all be in the same list) and lists can even contain other lists!"
   ]
  },
  {
   "cell_type": "code",
   "execution_count": 12,
   "metadata": {
    "executionInfo": {
     "elapsed": 850,
     "status": "ok",
     "timestamp": 1615826928965,
     "user": {
      "displayName": "Chalermpon Thongmotai",
      "photoUrl": "https://lh3.googleusercontent.com/a-/AOh14GiJe_Um4LokhrKbfdUuAOXI_dClsP5Mu0IpCYDGbQ=s64",
      "userId": "07042576794053311391"
     },
     "user_tz": -420
    },
    "id": "_8y0GF_yyWVd"
   },
   "outputs": [],
   "source": [
    "combo = ['a', 'b', 3, 4]\n",
    "combo_2 = [True, 'True', 1, 1.0]\n",
    "nested_list = [1, 2, 3, [4, 5, 6, 7]]"
   ]
  },
  {
   "cell_type": "code",
   "execution_count": 13,
   "metadata": {
    "colab": {
     "base_uri": "https://localhost:8080/"
    },
    "executionInfo": {
     "elapsed": 831,
     "status": "ok",
     "timestamp": 1615826942134,
     "user": {
      "displayName": "Chalermpon Thongmotai",
      "photoUrl": "https://lh3.googleusercontent.com/a-/AOh14GiJe_Um4LokhrKbfdUuAOXI_dClsP5Mu0IpCYDGbQ=s64",
      "userId": "07042576794053311391"
     },
     "user_tz": -420
    },
    "id": "-4LbEMFAyixq",
    "outputId": "8bcae1a6-67cb-4525-e167-4e33bfbc6442"
   },
   "outputs": [
    {
     "data": {
      "text/plain": [
       "[1, 2, 3, [4, 5, 6, 7]]"
      ]
     },
     "execution_count": 13,
     "metadata": {},
     "output_type": "execute_result"
    }
   ],
   "source": [
    "nested_list"
   ]
  },
  {
   "cell_type": "code",
   "execution_count": 14,
   "metadata": {},
   "outputs": [
    {
     "data": {
      "text/plain": [
       "[4, 5, 6, 7]"
      ]
     },
     "execution_count": 14,
     "metadata": {},
     "output_type": "execute_result"
    }
   ],
   "source": [
    "nested_list[3]"
   ]
  },
  {
   "cell_type": "code",
   "execution_count": 15,
   "metadata": {},
   "outputs": [
    {
     "data": {
      "text/plain": [
       "7"
      ]
     },
     "execution_count": 15,
     "metadata": {},
     "output_type": "execute_result"
    }
   ],
   "source": [
    "nested_list[3][-1]"
   ]
  },
  {
   "cell_type": "code",
   "execution_count": 16,
   "metadata": {},
   "outputs": [
    {
     "data": {
      "text/plain": [
       "[4, 5]"
      ]
     },
     "execution_count": 16,
     "metadata": {},
     "output_type": "execute_result"
    }
   ],
   "source": [
    "nested_list[3][0:2]"
   ]
  },
  {
   "cell_type": "markdown",
   "metadata": {
    "id": "kfyNTziz2Zpz"
   },
   "source": [
    "## Dictionaries"
   ]
  },
  {
   "cell_type": "markdown",
   "metadata": {
    "id": "iaBTA1Mg2hvP"
   },
   "source": [
    "Dictionaries are collections of **key-value pairs**.\n",
    "Think of a real dictionary -- you look up a word (a *key*), to find its definition (a *value*). Any given key can have only one value.\n",
    "\n",
    "This concept has many names depending on language: map, associative array, dictionary, and more. \n",
    "\n",
    "In Python, dictionaries are represented with curly braces. Colons separate a key from its value, and (like lists) commas delimit elements."
   ]
  },
  {
   "cell_type": "code",
   "execution_count": 17,
   "metadata": {
    "id": "qsHvWFXj2aKP"
   },
   "outputs": [],
   "source": [
    "# first, last, company\n",
    "my_profile = {'first': 'John', 'last':'Doe', 'Company': 'Google', 'age':30}"
   ]
  },
  {
   "cell_type": "code",
   "execution_count": 18,
   "metadata": {
    "id": "LvNVtXuB3DMx"
   },
   "outputs": [
    {
     "data": {
      "text/plain": [
       "'John'"
      ]
     },
     "execution_count": 18,
     "metadata": {},
     "output_type": "execute_result"
    }
   ],
   "source": [
    "my_profile['first']"
   ]
  },
  {
   "cell_type": "code",
   "execution_count": 19,
   "metadata": {},
   "outputs": [
    {
     "data": {
      "text/plain": [
       "30"
      ]
     },
     "execution_count": 19,
     "metadata": {},
     "output_type": "execute_result"
    }
   ],
   "source": [
    "my_profile['age']"
   ]
  },
  {
   "cell_type": "code",
   "execution_count": null,
   "metadata": {},
   "outputs": [],
   "source": []
  }
 ],
 "metadata": {
  "colab": {
   "authorship_tag": "ABX9TyMDYuvm3ZQxF7Lq2ut1P9dB",
   "collapsed_sections": [],
   "name": "Chapter_2.ipynb",
   "provenance": []
  },
  "kernelspec": {
   "display_name": "Python 3",
   "language": "python",
   "name": "python3"
  },
  "language_info": {
   "codemirror_mode": {
    "name": "ipython",
    "version": 3
   },
   "file_extension": ".py",
   "mimetype": "text/x-python",
   "name": "python",
   "nbconvert_exporter": "python",
   "pygments_lexer": "ipython3",
   "version": "3.7.3"
  }
 },
 "nbformat": 4,
 "nbformat_minor": 4
}
